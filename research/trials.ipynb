{
 "cells": [
  {
   "cell_type": "code",
   "execution_count": 1,
   "id": "4af275ff",
   "metadata": {},
   "outputs": [
    {
     "name": "stdout",
     "output_type": "stream",
     "text": [
      "hello world\n"
     ]
    }
   ],
   "source": [
    "print(\"hello world\")"
   ]
  },
  {
   "cell_type": "code",
   "execution_count": 2,
   "id": "142ca96f",
   "metadata": {},
   "outputs": [
    {
     "data": {
      "text/plain": [
       "'/home/vicron/Desktop/Healthcare/Healthcare-chatbot.-1/research'"
      ]
     },
     "execution_count": 2,
     "metadata": {},
     "output_type": "execute_result"
    }
   ],
   "source": [
    "%pwd"
   ]
  },
  {
   "cell_type": "code",
   "execution_count": 2,
   "id": "27a09ecf",
   "metadata": {},
   "outputs": [
    {
     "data": {
      "text/plain": [
       "'/home/vicron/Desktop/Healthcare/Healthcare-chatbot.-1/research'"
      ]
     },
     "execution_count": 2,
     "metadata": {},
     "output_type": "execute_result"
    }
   ],
   "source": [
    "%pwd"
   ]
  },
  {
   "cell_type": "code",
   "execution_count": 3,
   "id": "5f5d52a7",
   "metadata": {},
   "outputs": [],
   "source": [
    "import os\n",
    "os.chdir(\"../\")\n"
   ]
  },
  {
   "cell_type": "code",
   "execution_count": 4,
   "id": "ca697b66",
   "metadata": {},
   "outputs": [
    {
     "name": "stdout",
     "output_type": "stream",
     "text": [
      "Current directory: /home/vicron/Desktop/Healthcare/Healthcare-chatbot.-1\n"
     ]
    }
   ],
   "source": [
    "print(\"Current directory:\", os.getcwd())\n"
   ]
  },
  {
   "cell_type": "code",
   "execution_count": 5,
   "id": "3b4f086a",
   "metadata": {},
   "outputs": [
    {
     "name": "stdout",
     "output_type": "stream",
     "text": [
      "Requirement already satisfied: langchain-huggingface in /home/vicron/miniconda3/envs/health/lib/python3.11/site-packages (0.3.1)\n",
      "Requirement already satisfied: sentence-transformers in /home/vicron/miniconda3/envs/health/lib/python3.11/site-packages (5.0.0)\n",
      "Requirement already satisfied: langchain-core<1.0.0,>=0.3.70 in /home/vicron/miniconda3/envs/health/lib/python3.11/site-packages (from langchain-huggingface) (0.3.72)\n",
      "Requirement already satisfied: tokenizers>=0.19.1 in /home/vicron/miniconda3/envs/health/lib/python3.11/site-packages (from langchain-huggingface) (0.21.2)\n",
      "Requirement already satisfied: huggingface-hub>=0.33.4 in /home/vicron/miniconda3/envs/health/lib/python3.11/site-packages (from langchain-huggingface) (0.33.4)\n",
      "Requirement already satisfied: langsmith>=0.3.45 in /home/vicron/miniconda3/envs/health/lib/python3.11/site-packages (from langchain-core<1.0.0,>=0.3.70->langchain-huggingface) (0.4.8)\n",
      "Requirement already satisfied: tenacity!=8.4.0,<10.0.0,>=8.1.0 in /home/vicron/miniconda3/envs/health/lib/python3.11/site-packages (from langchain-core<1.0.0,>=0.3.70->langchain-huggingface) (9.1.2)\n",
      "Requirement already satisfied: jsonpatch<2.0,>=1.33 in /home/vicron/miniconda3/envs/health/lib/python3.11/site-packages (from langchain-core<1.0.0,>=0.3.70->langchain-huggingface) (1.33)\n",
      "Requirement already satisfied: PyYAML>=5.3 in /home/vicron/miniconda3/envs/health/lib/python3.11/site-packages (from langchain-core<1.0.0,>=0.3.70->langchain-huggingface) (6.0.2)\n",
      "Requirement already satisfied: typing-extensions>=4.7 in /home/vicron/miniconda3/envs/health/lib/python3.11/site-packages (from langchain-core<1.0.0,>=0.3.70->langchain-huggingface) (4.14.1)\n",
      "Requirement already satisfied: packaging>=23.2 in /home/vicron/miniconda3/envs/health/lib/python3.11/site-packages (from langchain-core<1.0.0,>=0.3.70->langchain-huggingface) (24.2)\n",
      "Requirement already satisfied: pydantic>=2.7.4 in /home/vicron/miniconda3/envs/health/lib/python3.11/site-packages (from langchain-core<1.0.0,>=0.3.70->langchain-huggingface) (2.11.7)\n",
      "Requirement already satisfied: jsonpointer>=1.9 in /home/vicron/miniconda3/envs/health/lib/python3.11/site-packages (from jsonpatch<2.0,>=1.33->langchain-core<1.0.0,>=0.3.70->langchain-huggingface) (3.0.0)\n",
      "Requirement already satisfied: transformers<5.0.0,>=4.41.0 in /home/vicron/miniconda3/envs/health/lib/python3.11/site-packages (from sentence-transformers) (4.53.2)\n",
      "Requirement already satisfied: tqdm in /home/vicron/miniconda3/envs/health/lib/python3.11/site-packages (from sentence-transformers) (4.67.1)\n",
      "Requirement already satisfied: torch>=1.11.0 in /home/vicron/miniconda3/envs/health/lib/python3.11/site-packages (from sentence-transformers) (2.7.1)\n",
      "Requirement already satisfied: scikit-learn in /home/vicron/miniconda3/envs/health/lib/python3.11/site-packages (from sentence-transformers) (1.7.1)\n",
      "Requirement already satisfied: scipy in /home/vicron/miniconda3/envs/health/lib/python3.11/site-packages (from sentence-transformers) (1.16.0)\n",
      "Requirement already satisfied: Pillow in /home/vicron/miniconda3/envs/health/lib/python3.11/site-packages (from sentence-transformers) (11.3.0)\n",
      "Requirement already satisfied: filelock in /home/vicron/miniconda3/envs/health/lib/python3.11/site-packages (from transformers<5.0.0,>=4.41.0->sentence-transformers) (3.18.0)\n",
      "Requirement already satisfied: numpy>=1.17 in /home/vicron/miniconda3/envs/health/lib/python3.11/site-packages (from transformers<5.0.0,>=4.41.0->sentence-transformers) (2.3.1)\n",
      "Requirement already satisfied: regex!=2019.12.17 in /home/vicron/miniconda3/envs/health/lib/python3.11/site-packages (from transformers<5.0.0,>=4.41.0->sentence-transformers) (2024.11.6)\n",
      "Requirement already satisfied: requests in /home/vicron/miniconda3/envs/health/lib/python3.11/site-packages (from transformers<5.0.0,>=4.41.0->sentence-transformers) (2.32.4)\n",
      "Requirement already satisfied: safetensors>=0.4.3 in /home/vicron/miniconda3/envs/health/lib/python3.11/site-packages (from transformers<5.0.0,>=4.41.0->sentence-transformers) (0.5.3)\n",
      "Requirement already satisfied: fsspec>=2023.5.0 in /home/vicron/miniconda3/envs/health/lib/python3.11/site-packages (from huggingface-hub>=0.33.4->langchain-huggingface) (2025.7.0)\n",
      "Requirement already satisfied: hf-xet<2.0.0,>=1.1.2 in /home/vicron/miniconda3/envs/health/lib/python3.11/site-packages (from huggingface-hub>=0.33.4->langchain-huggingface) (1.1.5)\n",
      "Requirement already satisfied: httpx<1,>=0.23.0 in /home/vicron/miniconda3/envs/health/lib/python3.11/site-packages (from langsmith>=0.3.45->langchain-core<1.0.0,>=0.3.70->langchain-huggingface) (0.28.1)\n",
      "Requirement already satisfied: orjson<4.0.0,>=3.9.14 in /home/vicron/miniconda3/envs/health/lib/python3.11/site-packages (from langsmith>=0.3.45->langchain-core<1.0.0,>=0.3.70->langchain-huggingface) (3.11.0)\n",
      "Requirement already satisfied: requests-toolbelt<2.0.0,>=1.0.0 in /home/vicron/miniconda3/envs/health/lib/python3.11/site-packages (from langsmith>=0.3.45->langchain-core<1.0.0,>=0.3.70->langchain-huggingface) (1.0.0)\n",
      "Requirement already satisfied: zstandard<0.24.0,>=0.23.0 in /home/vicron/miniconda3/envs/health/lib/python3.11/site-packages (from langsmith>=0.3.45->langchain-core<1.0.0,>=0.3.70->langchain-huggingface) (0.23.0)\n",
      "Requirement already satisfied: anyio in /home/vicron/miniconda3/envs/health/lib/python3.11/site-packages (from httpx<1,>=0.23.0->langsmith>=0.3.45->langchain-core<1.0.0,>=0.3.70->langchain-huggingface) (4.9.0)\n",
      "Requirement already satisfied: certifi in /home/vicron/miniconda3/envs/health/lib/python3.11/site-packages (from httpx<1,>=0.23.0->langsmith>=0.3.45->langchain-core<1.0.0,>=0.3.70->langchain-huggingface) (2025.7.14)\n",
      "Requirement already satisfied: httpcore==1.* in /home/vicron/miniconda3/envs/health/lib/python3.11/site-packages (from httpx<1,>=0.23.0->langsmith>=0.3.45->langchain-core<1.0.0,>=0.3.70->langchain-huggingface) (1.0.9)\n",
      "Requirement already satisfied: idna in /home/vicron/miniconda3/envs/health/lib/python3.11/site-packages (from httpx<1,>=0.23.0->langsmith>=0.3.45->langchain-core<1.0.0,>=0.3.70->langchain-huggingface) (3.10)\n",
      "Requirement already satisfied: h11>=0.16 in /home/vicron/miniconda3/envs/health/lib/python3.11/site-packages (from httpcore==1.*->httpx<1,>=0.23.0->langsmith>=0.3.45->langchain-core<1.0.0,>=0.3.70->langchain-huggingface) (0.16.0)\n",
      "Requirement already satisfied: annotated-types>=0.6.0 in /home/vicron/miniconda3/envs/health/lib/python3.11/site-packages (from pydantic>=2.7.4->langchain-core<1.0.0,>=0.3.70->langchain-huggingface) (0.7.0)\n",
      "Requirement already satisfied: pydantic-core==2.33.2 in /home/vicron/miniconda3/envs/health/lib/python3.11/site-packages (from pydantic>=2.7.4->langchain-core<1.0.0,>=0.3.70->langchain-huggingface) (2.33.2)\n",
      "Requirement already satisfied: typing-inspection>=0.4.0 in /home/vicron/miniconda3/envs/health/lib/python3.11/site-packages (from pydantic>=2.7.4->langchain-core<1.0.0,>=0.3.70->langchain-huggingface) (0.4.1)\n",
      "Requirement already satisfied: charset_normalizer<4,>=2 in /home/vicron/miniconda3/envs/health/lib/python3.11/site-packages (from requests->transformers<5.0.0,>=4.41.0->sentence-transformers) (3.4.2)\n",
      "Requirement already satisfied: urllib3<3,>=1.21.1 in /home/vicron/miniconda3/envs/health/lib/python3.11/site-packages (from requests->transformers<5.0.0,>=4.41.0->sentence-transformers) (2.5.0)\n",
      "Requirement already satisfied: sympy>=1.13.3 in /home/vicron/miniconda3/envs/health/lib/python3.11/site-packages (from torch>=1.11.0->sentence-transformers) (1.14.0)\n",
      "Requirement already satisfied: networkx in /home/vicron/miniconda3/envs/health/lib/python3.11/site-packages (from torch>=1.11.0->sentence-transformers) (3.5)\n",
      "Requirement already satisfied: jinja2 in /home/vicron/miniconda3/envs/health/lib/python3.11/site-packages (from torch>=1.11.0->sentence-transformers) (3.1.6)\n",
      "Requirement already satisfied: nvidia-cuda-nvrtc-cu12==12.6.77 in /home/vicron/miniconda3/envs/health/lib/python3.11/site-packages (from torch>=1.11.0->sentence-transformers) (12.6.77)\n",
      "Requirement already satisfied: nvidia-cuda-runtime-cu12==12.6.77 in /home/vicron/miniconda3/envs/health/lib/python3.11/site-packages (from torch>=1.11.0->sentence-transformers) (12.6.77)\n",
      "Requirement already satisfied: nvidia-cuda-cupti-cu12==12.6.80 in /home/vicron/miniconda3/envs/health/lib/python3.11/site-packages (from torch>=1.11.0->sentence-transformers) (12.6.80)\n",
      "Requirement already satisfied: nvidia-cudnn-cu12==9.5.1.17 in /home/vicron/miniconda3/envs/health/lib/python3.11/site-packages (from torch>=1.11.0->sentence-transformers) (9.5.1.17)\n",
      "Requirement already satisfied: nvidia-cublas-cu12==12.6.4.1 in /home/vicron/miniconda3/envs/health/lib/python3.11/site-packages (from torch>=1.11.0->sentence-transformers) (12.6.4.1)\n",
      "Requirement already satisfied: nvidia-cufft-cu12==11.3.0.4 in /home/vicron/miniconda3/envs/health/lib/python3.11/site-packages (from torch>=1.11.0->sentence-transformers) (11.3.0.4)\n",
      "Requirement already satisfied: nvidia-curand-cu12==10.3.7.77 in /home/vicron/miniconda3/envs/health/lib/python3.11/site-packages (from torch>=1.11.0->sentence-transformers) (10.3.7.77)\n",
      "Requirement already satisfied: nvidia-cusolver-cu12==11.7.1.2 in /home/vicron/miniconda3/envs/health/lib/python3.11/site-packages (from torch>=1.11.0->sentence-transformers) (11.7.1.2)\n",
      "Requirement already satisfied: nvidia-cusparse-cu12==12.5.4.2 in /home/vicron/miniconda3/envs/health/lib/python3.11/site-packages (from torch>=1.11.0->sentence-transformers) (12.5.4.2)\n",
      "Requirement already satisfied: nvidia-cusparselt-cu12==0.6.3 in /home/vicron/miniconda3/envs/health/lib/python3.11/site-packages (from torch>=1.11.0->sentence-transformers) (0.6.3)\n",
      "Requirement already satisfied: nvidia-nccl-cu12==2.26.2 in /home/vicron/miniconda3/envs/health/lib/python3.11/site-packages (from torch>=1.11.0->sentence-transformers) (2.26.2)\n",
      "Requirement already satisfied: nvidia-nvtx-cu12==12.6.77 in /home/vicron/miniconda3/envs/health/lib/python3.11/site-packages (from torch>=1.11.0->sentence-transformers) (12.6.77)\n",
      "Requirement already satisfied: nvidia-nvjitlink-cu12==12.6.85 in /home/vicron/miniconda3/envs/health/lib/python3.11/site-packages (from torch>=1.11.0->sentence-transformers) (12.6.85)\n",
      "Requirement already satisfied: nvidia-cufile-cu12==1.11.1.6 in /home/vicron/miniconda3/envs/health/lib/python3.11/site-packages (from torch>=1.11.0->sentence-transformers) (1.11.1.6)\n",
      "Requirement already satisfied: triton==3.3.1 in /home/vicron/miniconda3/envs/health/lib/python3.11/site-packages (from torch>=1.11.0->sentence-transformers) (3.3.1)\n",
      "Requirement already satisfied: setuptools>=40.8.0 in /home/vicron/miniconda3/envs/health/lib/python3.11/site-packages (from triton==3.3.1->torch>=1.11.0->sentence-transformers) (80.9.0)\n",
      "Requirement already satisfied: mpmath<1.4,>=1.1.0 in /home/vicron/miniconda3/envs/health/lib/python3.11/site-packages (from sympy>=1.13.3->torch>=1.11.0->sentence-transformers) (1.3.0)\n",
      "Requirement already satisfied: sniffio>=1.1 in /home/vicron/miniconda3/envs/health/lib/python3.11/site-packages (from anyio->httpx<1,>=0.23.0->langsmith>=0.3.45->langchain-core<1.0.0,>=0.3.70->langchain-huggingface) (1.3.1)\n",
      "Requirement already satisfied: MarkupSafe>=2.0 in /home/vicron/miniconda3/envs/health/lib/python3.11/site-packages (from jinja2->torch>=1.11.0->sentence-transformers) (3.0.2)\n",
      "Requirement already satisfied: joblib>=1.2.0 in /home/vicron/miniconda3/envs/health/lib/python3.11/site-packages (from scikit-learn->sentence-transformers) (1.5.1)\n",
      "Requirement already satisfied: threadpoolctl>=3.1.0 in /home/vicron/miniconda3/envs/health/lib/python3.11/site-packages (from scikit-learn->sentence-transformers) (3.6.0)\n",
      "Note: you may need to restart the kernel to use updated packages.\n"
     ]
    }
   ],
   "source": [
    "%pip install -U langchain-huggingface sentence-transformers"
   ]
  },
  {
   "cell_type": "code",
   "execution_count": 6,
   "id": "a7a17a38",
   "metadata": {},
   "outputs": [],
   "source": [
    "#imports\n",
    "from langchain.document_loaders import PyPDFLoader, DirectoryLoader\n",
    "from langchain.text_splitter import RecursiveCharacterTextSplitter\n",
    "from langchain_huggingface import HuggingFaceEmbeddings"
   ]
  },
  {
   "cell_type": "code",
   "execution_count": 7,
   "id": "0bcdfa82",
   "metadata": {},
   "outputs": [],
   "source": [
    "#Check data\n",
    "\n",
    "data_dir = \"Data/\"\n",
    "if not os.path.exists(data_dir):\n",
    "    raise FileNotFoundError(f\"Directory '{data_dir}' does not exist. Please create it and add PDF files.\")"
   ]
  },
  {
   "cell_type": "code",
   "execution_count": 8,
   "id": "88b0470b",
   "metadata": {},
   "outputs": [],
   "source": [
    "#Load Data\n",
    "\n",
    "def load_pdf(data):\n",
    "    loader = DirectoryLoader(\n",
    "        data,\n",
    "        glob=\"*.pdf\",\n",
    "        loader_cls=PyPDFLoader\n",
    "    )\n",
    "    documents = loader.load()\n",
    "    return documents"
   ]
  },
  {
   "cell_type": "code",
   "execution_count": 9,
   "id": "5c1bb250",
   "metadata": {},
   "outputs": [],
   "source": [
    "extracted_data = load_pdf(data=data_dir)"
   ]
  },
  {
   "cell_type": "code",
   "execution_count": 10,
   "id": "1cd47def",
   "metadata": {},
   "outputs": [],
   "source": [
    "#extracted_data"
   ]
  },
  {
   "cell_type": "code",
   "execution_count": 19,
   "id": "dcef23af",
   "metadata": {},
   "outputs": [],
   "source": [
    "def split_text(extracted_data):\n",
    "    text_splitter = RecursiveCharacterTextSplitter(chunk_size=1000, chunk_overlap=30)\n",
    "    text_chunks = text_splitter.split_documents(extracted_data)\n",
    "    return text_chunks"
   ]
  },
  {
   "cell_type": "code",
   "execution_count": 20,
   "id": "12ab09bc",
   "metadata": {},
   "outputs": [
    {
     "name": "stdout",
     "output_type": "stream",
     "text": [
      "Length of text chunks : 3010\n"
     ]
    }
   ],
   "source": [
    "text_chunks =  split_text(extracted_data)\n",
    "print(f\"Length of text chunks : {len(text_chunks)}\")"
   ]
  },
  {
   "cell_type": "code",
   "execution_count": 21,
   "id": "f4148117",
   "metadata": {},
   "outputs": [],
   "source": [
    "#downloading  Huggingface embeddings\n",
    "def download_embeddings():\n",
    "    embeddings = HuggingFaceEmbeddings(model_name='sentence-transformers/all-MiniLM-L6-v2')\n",
    "    return embeddings\n"
   ]
  },
  {
   "cell_type": "code",
   "execution_count": 22,
   "id": "96c2dc1f",
   "metadata": {},
   "outputs": [
    {
     "name": "stderr",
     "output_type": "stream",
     "text": [
      "/home/vicron/miniconda3/envs/health/lib/python3.11/site-packages/tqdm/auto.py:21: TqdmWarning: IProgress not found. Please update jupyter and ipywidgets. See https://ipywidgets.readthedocs.io/en/stable/user_install.html\n",
      "  from .autonotebook import tqdm as notebook_tqdm\n"
     ]
    }
   ],
   "source": [
    "embeddings = download_embeddings()"
   ]
  },
  {
   "cell_type": "code",
   "execution_count": 23,
   "id": "a59c49f4",
   "metadata": {},
   "outputs": [
    {
     "name": "stdout",
     "output_type": "stream",
     "text": [
      "length 384\n"
     ]
    }
   ],
   "source": [
    "query_result = embeddings.embed_query(\"Hello Victor\")\n",
    "print (\"length\", len(query_result))"
   ]
  },
  {
   "cell_type": "code",
   "execution_count": 24,
   "id": "227a5c36",
   "metadata": {},
   "outputs": [],
   "source": [
    "#query_result"
   ]
  },
  {
   "cell_type": "code",
   "execution_count": 47,
   "id": "ae294ba6",
   "metadata": {},
   "outputs": [
    {
     "data": {
      "text/plain": [
       "True"
      ]
     },
     "execution_count": 47,
     "metadata": {},
     "output_type": "execute_result"
    }
   ],
   "source": [
    "from dotenv import load_dotenv\n",
    "load_dotenv()"
   ]
  },
  {
   "cell_type": "code",
   "execution_count": 48,
   "id": "5375dea2",
   "metadata": {},
   "outputs": [],
   "source": [
    "PINECONE_API_KEY = os.environ.get('PINECONE_API_KEY')\n",
    "GEMINI_API_KEY = os.environ.get('GEMINI_API_KEY')"
   ]
  },
  {
   "cell_type": "code",
   "execution_count": 27,
   "id": "56106734",
   "metadata": {},
   "outputs": [
    {
     "data": {
      "text/plain": [
       "{\n",
       "    \"name\": \"healthcare-chatbot\",\n",
       "    \"metric\": \"cosine\",\n",
       "    \"host\": \"healthcare-chatbot-ccj89ta.svc.aped-4627-b74a.pinecone.io\",\n",
       "    \"spec\": {\n",
       "        \"serverless\": {\n",
       "            \"cloud\": \"aws\",\n",
       "            \"region\": \"us-east-1\"\n",
       "        }\n",
       "    },\n",
       "    \"status\": {\n",
       "        \"ready\": true,\n",
       "        \"state\": \"Ready\"\n",
       "    },\n",
       "    \"vector_type\": \"dense\",\n",
       "    \"dimension\": 384,\n",
       "    \"deletion_protection\": \"disabled\",\n",
       "    \"tags\": null\n",
       "}"
      ]
     },
     "execution_count": 27,
     "metadata": {},
     "output_type": "execute_result"
    }
   ],
   "source": [
    "from pinecone import Pinecone, ServerlessSpec\n",
    "\n",
    "pc = Pinecone(api_key=PINECONE_API_KEY)\n",
    "\n",
    "index_name = \"healthcare-chatbot\"\n",
    "\n",
    "\n",
    "pc.create_index(\n",
    "    name=index_name,\n",
    "    dimension=384,  \n",
    "    metric=\"cosine\",\n",
    "    spec=ServerlessSpec(\n",
    "        cloud=\"aws\",\n",
    "        region=\"us-east-1\"\n",
    "    )\n",
    ")\n",
    "\n"
   ]
  },
  {
   "cell_type": "code",
   "execution_count": 49,
   "id": "ea12abf5",
   "metadata": {},
   "outputs": [],
   "source": [
    "import os\n",
    "os.environ[\"PINECONE_API_KEY\"] = PINECONE_API_KEY\n",
    "os.environ[\"GEMINI_API_KEY\"] = GEMINI_API_KEY\n"
   ]
  },
  {
   "cell_type": "code",
   "execution_count": 29,
   "id": "f643c535",
   "metadata": {},
   "outputs": [],
   "source": [
    "from langchain_pinecone import PineconeVectorStore\n",
    "\n",
    "docsearch = PineconeVectorStore.from_documents(\n",
    "    documents=text_chunks,\n",
    "    index_name=index_name,\n",
    "    embedding=embeddings,  \n",
    ")"
   ]
  },
  {
   "cell_type": "code",
   "execution_count": 30,
   "id": "69b131e1",
   "metadata": {},
   "outputs": [],
   "source": [
    "#Load Existing Index\n",
    "from langchain_pinecone import PineconeVectorStore\n",
    "\n",
    "docsearch = PineconeVectorStore.from_existing_index(\n",
    "    index_name = index_name,\n",
    "    embedding = embeddings\n",
    ")\n"
   ]
  },
  {
   "cell_type": "code",
   "execution_count": 32,
   "id": "b71e671e",
   "metadata": {},
   "outputs": [
    {
     "data": {
      "text/plain": [
       "<langchain_pinecone.vectorstores.PineconeVectorStore at 0x7f3778fe4590>"
      ]
     },
     "execution_count": 32,
     "metadata": {},
     "output_type": "execute_result"
    }
   ],
   "source": [
    "docsearch"
   ]
  },
  {
   "cell_type": "code",
   "execution_count": 33,
   "id": "f6688ced",
   "metadata": {},
   "outputs": [],
   "source": [
    "retriever = docsearch.as_retriever(search_type=\"similarity\",search_kwargs={\"k\":3})"
   ]
  },
  {
   "cell_type": "code",
   "execution_count": 34,
   "id": "541c3ed5",
   "metadata": {},
   "outputs": [],
   "source": [
    "retrieved_docs = retriever.invoke(\"What is acne\")"
   ]
  },
  {
   "cell_type": "code",
   "execution_count": 35,
   "id": "2536440f",
   "metadata": {},
   "outputs": [
    {
     "data": {
      "text/plain": [
       "[Document(id='9216618c-0372-4686-9071-a32388054646', metadata={'creationdate': '2004-12-18T17:00:02-05:00', 'creator': 'PyPDF', 'moddate': '2004-12-18T16:15:31-06:00', 'page': 40.0, 'page_label': '41', 'producer': 'PDFlib+PDI 5.0.0 (SunOS)', 'source': 'Data/Gale Encyclopedia of Medicine Vol. 1 (A-B).pdf', 'total_pages': 637.0}, page_content='Cliffs, NJ: Prentice Hall, 1995.\\nGoldstein, Sanford M., and Richard B. Odom. “Skin &\\nAppendages: Pustular Disorders.” In Current Medical\\nDiagnosis and Treatment, 1996.35th ed. Ed. Stephen\\nMcPhee, et al. Stamford: Appleton & Lange, 1995.\\nKaptchuk, Ted J., Z’ev Rosenberg, and K’an Herb Co., Inc.\\nK’an Herbals: Formulas by Ted Kaptchuk, O.M.D.San\\nFrancisco: Andrew Miller, 1996.\\nPERIODICALS\\n“Adult Acne.”Harvard Women’s Health Watch(Mar. 1995): 4-\\n5.\\nBergfeld, Wilma F. “The Evaluation and Management of Acne:\\nEconomic Considerations.” Journal of the American\\nAcademy of Dermatology 32 (1995): S52-6.\\nBillings, Laura. “Getting Clear.”Health Magazine, Apr. 1997,\\n48-52.\\nChristiano, Donna. “Acne Treatment Meant for Grown- Ups.”\\nAmerican Health (Oct. 1994): 23-4.\\n“Clearly Better New Treatments Help Adult Acne.”Prevention\\nMagazine, Aug. 1997, 50-51.\\nLeyden, James J. “Therapy For Acne Vulgaris.”New England\\nJournal of Medicine 17 (Apr. 1997): 1156-1162.'),\n",
       " Document(id='bc15ab18-68ca-4733-a12f-f588362dfe52', metadata={'creationdate': '2004-12-18T17:00:02-05:00', 'creator': 'PyPDF', 'moddate': '2004-12-18T16:15:31-06:00', 'page': 37.0, 'page_label': '38', 'producer': 'PDFlib+PDI 5.0.0 (SunOS)', 'source': 'Data/Gale Encyclopedia of Medicine Vol. 1 (A-B).pdf', 'total_pages': 637.0}, page_content='Resources\\nBOOKS\\nA Manual of Laboratory and Diagnostic Tests.5th ed. Ed.\\nFrancis Fishback. Philadelphia: Lippincott, 1996.\\nGarza, Diana, and Kathleen Becan-McBride. Phlebotomy\\nHandbook. 4th ed. Stamford: Appleton & Lange, 1996.\\nPERIODICALS\\nMoul, Judd W., et al. “The Contemporary Value of Pretreat-\\nment Prostatic Acid Phosphatase to Predict Pathological\\nStage and Recurrence in Radical Prostatectomy Cases.”\\nJournal of Urology (Mar. 1998): 935-940.\\nNancy J. Nordenson\\nAcid reflux see Heartburn\\nAcidosis see Respiratory acidosis; Renal\\ntubular acidosis; Metabolic acidosis\\nAcne\\nDefinition\\nAcne is a common skin disease characterized by\\npimples on the face, chest, and back. It occurs when the\\npores of the skin become clogged with oil, dead skin\\ncells, and bacteria.\\nDescription\\nAcne vulgaris, the medical term for common acne, is\\nthe most common skin disease. It affects nearly 17 million\\npeople in the United States. While acne can arise at any'),\n",
       " Document(id='cc5a2f94-d2e7-4a3c-9950-9402e8b827ea', metadata={'creationdate': '2004-12-18T17:00:02-05:00', 'creator': 'PyPDF', 'moddate': '2004-12-18T16:15:31-06:00', 'page': 37.0, 'page_label': '38', 'producer': 'PDFlib+PDI 5.0.0 (SunOS)', 'source': 'Data/Gale Encyclopedia of Medicine Vol. 1 (A-B).pdf', 'total_pages': 637.0}, page_content='age, it usually begins at puberty and worsens during ado-\\nlescence. Nearly 85% of people develop acne at some time\\nbetween the ages of 12-25 years. Up to 20% of women\\ndevelop mild acne. It is also found in some newborns.\\nThe sebaceous glands lie just beneath the skin’s sur-\\nface. They produce an oil called sebum, the skin’s natural\\nmoisturizer. These glands and the hair follicles within\\nwhich they are found are called sebaceous follicles.\\nThese follicles open onto the skin through pores. At\\npuberty, increased levels of androgens (male hormones)\\ncause the glands to produce too much sebum. When\\nexcess sebum combines with dead, sticky skin cells, a\\nhard plug, or comedo, forms that blocks the pore. Mild\\nnoninflammatory acne consists of the two types of come-\\ndones, whiteheads and blackheads.\\nModerate and severe inflammatory types of acne\\nresult after the plugged follicle is invaded by Propioni-\\nbacterium acnes , a bacteria that normally lives on the')]"
      ]
     },
     "execution_count": 35,
     "metadata": {},
     "output_type": "execute_result"
    }
   ],
   "source": [
    "retrieved_docs"
   ]
  },
  {
   "cell_type": "code",
   "execution_count": 50,
   "id": "11330e40",
   "metadata": {},
   "outputs": [],
   "source": [
    "from langchain.chat_models import ChatOpenAI\n",
    "\n",
    "\n",
    "llm = ChatOpenAI(\n",
    "    base_url=\"https://openrouter.ai/api/v1\",\n",
    "    model=\"deepseek/deepseek-r1-0528-qwen3-8b\",\n",
    "    temperature=0.3,\n",
    "    max_tokens=512,\n",
    "    openai_api_key=os.environ[\"GEMINI_API_KEY\"]\n",
    ")\n",
    "\n"
   ]
  },
  {
   "cell_type": "code",
   "execution_count": 109,
   "id": "4155f954",
   "metadata": {},
   "outputs": [],
   "source": [
    "from langchain.chains import create_retrieval_chain\n",
    "from langchain.chains.combine_documents import create_stuff_documents_chain\n",
    "from langchain_core.prompts import ChatPromptTemplate\n",
    "\n",
    "\n",
    "system_prompt = (\n",
    "    \"You are a knowledgeable and safe AI assistant for medical question-answering.\\n\"\n",
    "    \"Use the provided context below as your primary source of truth.\\n\"\n",
    "    \"If the context answers the user's question directly, use it.\\n\"\n",
    "    \"If the context is missing or incomplete, you may use general, widely accepted medical knowledge to help answer simple or common questions.\\n\"\n",
    "    \"Be honest about uncertainty, and never invent treatments or diagnoses.\\n\"\n",
    "    \"Do not mention the context or say phrases like 'Based on the context' or 'According to the context'. Just answer plainly.\\n\"\n",
    "    \"If the question requires specific facts not found in the context or commonly known, reply: \\\"I don't know.\\n\\n\"\n",
    "    \"{context}\"\n",
    ")\n",
    "\n",
    "\n",
    "prompt = ChatPromptTemplate.from_messages([\n",
    "    (\"system\", system_prompt),\n",
    "    (\"human\", \"{input}\")\n",
    "])\n"
   ]
  },
  {
   "cell_type": "code",
   "execution_count": 110,
   "id": "63fc8d0c",
   "metadata": {},
   "outputs": [],
   "source": [
    "question_answer_chain = create_stuff_documents_chain(llm,prompt)\n",
    "rag_chain = create_retrieval_chain(retriever,question_answer_chain)"
   ]
  },
  {
   "cell_type": "code",
   "execution_count": 101,
   "id": "ace279b1",
   "metadata": {},
   "outputs": [
    {
     "name": "stdout",
     "output_type": "stream",
     "text": [
      "Acne is a common skin disease characterized by pimples on the face, chest, and back. It occurs when the pores of the skin become clogged with oil, dead skin cells, and bacteria.\n"
     ]
    }
   ],
   "source": [
    "response = rag_chain.invoke({\"input\":\"what is Acne\"})\n",
    "print(response[\"answer\"])\n"
   ]
  },
  {
   "cell_type": "code",
   "execution_count": 102,
   "id": "2f32068b",
   "metadata": {},
   "outputs": [
    {
     "name": "stdout",
     "output_type": "stream",
     "text": [
      "Statistics is a branch of mathematics dealing with the collection, analysis, interpretation, presentation, and organization of data. In medicine, statistics is used to analyze clinical trial data, determine the effectiveness of treatments, and understand disease patterns in populations. It helps healthcare professionals make evidence-based decisions and assess the reliability of medical findings.\n"
     ]
    }
   ],
   "source": [
    "response = rag_chain.invoke({\"input\":\"what is stats\"})\n",
    "print(response[\"answer\"])\n"
   ]
  },
  {
   "cell_type": "code",
   "execution_count": 113,
   "id": "35796fb1",
   "metadata": {},
   "outputs": [
    {
     "name": "stdout",
     "output_type": "stream",
     "text": [
      "Yes, you should visit a medical doctor promptly. Experiencing fever, chest pain, and headache warrants a professional evaluation to determine the cause and receive appropriate treatment.\n"
     ]
    }
   ],
   "source": [
    "response = rag_chain.invoke({\"input\":\"I have fever,pain in my chest and headache,what should i do?,should i visit a medical doctor?\"})\n",
    "print(response[\"answer\"])"
   ]
  },
  {
   "cell_type": "code",
   "execution_count": 104,
   "id": "2d6cd958",
   "metadata": {},
   "outputs": [
    {
     "name": "stdout",
     "output_type": "stream",
     "text": [
      "Typhoid fever typically presents with symptoms such as high fever, abdominal pain, headache, and sometimes a characteristic rash. Other symptoms can include weakness, loss of appetite, and in some cases, diarrhea or constipation. If you suspect typhoid fever, it's important to seek medical attention for proper diagnosis and treatment.\n"
     ]
    }
   ],
   "source": [
    "response = rag_chain.invoke({\"input\":\"what are the symptoms of typhoid\"})\n",
    "print(response[\"answer\"])"
   ]
  }
 ],
 "metadata": {
  "kernelspec": {
   "display_name": "health",
   "language": "python",
   "name": "python3"
  },
  "language_info": {
   "codemirror_mode": {
    "name": "ipython",
    "version": 3
   },
   "file_extension": ".py",
   "mimetype": "text/x-python",
   "name": "python",
   "nbconvert_exporter": "python",
   "pygments_lexer": "ipython3",
   "version": "3.11.13"
  }
 },
 "nbformat": 4,
 "nbformat_minor": 5
}
